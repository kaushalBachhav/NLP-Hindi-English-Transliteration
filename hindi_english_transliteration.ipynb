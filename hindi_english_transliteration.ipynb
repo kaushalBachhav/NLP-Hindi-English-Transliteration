{
  "cells": [
    {
      "cell_type": "code",
      "execution_count": 1,
      "metadata": {
        "colab": {
          "base_uri": "https://localhost:8080/"
        },
        "id": "G03zWnDyyFG7",
        "outputId": "f5b51024-f0fe-4d1b-b1ab-680f062ba2f9"
      },
      "outputs": [
        {
          "output_type": "stream",
          "name": "stdout",
          "text": [
            "Mounted at /content/drive\n"
          ]
        }
      ],
      "source": [
        "from google.colab import drive\n",
        "drive.mount('/content/drive')"
      ]
    },
    {
      "cell_type": "code",
      "execution_count": 2,
      "metadata": {
        "id": "zzYYPZYifUOB"
      },
      "outputs": [],
      "source": [
        "import torch\n",
        "import torch.nn as nn\n",
        "import torch.optim as optim\n",
        "from torch.autograd import Variable\n",
        "import torch.nn.functional as F\n",
        "from torch.utils.data import Dataset\n",
        "import xml.etree.ElementTree as ET\n",
        "import numpy as np\n",
        "import matplotlib.pyplot as plt\n",
        "from IPython.display import clear_output\n",
        "device = torch.device(\"cuda:0\" if torch.cuda.is_available() else \"cpu\")\n",
        "import random\n",
        "import re"
      ]
    },
    {
      "cell_type": "markdown",
      "metadata": {
        "id": "a7BdrUFjR0QX"
      },
      "source": [
        "Creating English character dictionary"
      ]
    },
    {
      "cell_type": "code",
      "execution_count": 3,
      "metadata": {
        "id": "EgyI-2ePyAsw",
        "outputId": "0497f1bb-b82e-449e-a002-bfbf8a6da84c",
        "colab": {
          "base_uri": "https://localhost:8080/"
        }
      },
      "outputs": [
        {
          "output_type": "stream",
          "name": "stdout",
          "text": [
            "cpu\n"
          ]
        }
      ],
      "source": [
        "print(device)"
      ]
    },
    {
      "cell_type": "code",
      "execution_count": 4,
      "metadata": {
        "colab": {
          "base_uri": "https://localhost:8080/"
        },
        "id": "6uUb-enCn-Ep",
        "outputId": "584ba82d-1870-49a4-8995-121f00b088a8"
      },
      "outputs": [
        {
          "output_type": "stream",
          "name": "stdout",
          "text": [
            "{'PAD': 0, 'A': 1, 'B': 2, 'C': 3, 'D': 4, 'E': 5, 'F': 6, 'G': 7, 'H': 8, 'I': 9, 'J': 10, 'K': 11, 'L': 12, 'M': 13, 'N': 14, 'O': 15, 'P': 16, 'Q': 17, 'R': 18, 'S': 19, 'T': 20, 'U': 21, 'V': 22, 'W': 23, 'X': 24, 'Y': 25, 'Z': 26}\n"
          ]
        }
      ],
      "source": [
        "english_alphabets = 'ABCDEFGHIJKLMNOPQRSTUVWXYZ'\n",
        "pad_string = 'PAD'\n",
        "english_dict = {pad_string:0}\n",
        "for i,j in enumerate(english_alphabets):\n",
        "    english_dict[j] = i+1\n",
        "print(english_dict)"
      ]
    },
    {
      "cell_type": "markdown",
      "metadata": {
        "id": "4VpTqub0R-TJ"
      },
      "source": [
        "Creating Hindi character dictionary"
      ]
    },
    {
      "cell_type": "code",
      "execution_count": 5,
      "metadata": {
        "colab": {
          "base_uri": "https://localhost:8080/"
        },
        "id": "PlVmTpUcoslq",
        "outputId": "cf97aff0-d332-4d47-8f87-3e66a4844cc1"
      },
      "outputs": [
        {
          "output_type": "stream",
          "name": "stdout",
          "text": [
            "{'PAD': 0, 'ऀ': 1, 'ँ': 2, 'ं': 3, 'ः': 4, 'ऄ': 5, 'अ': 6, 'आ': 7, 'इ': 8, 'ई': 9, 'उ': 10, 'ऊ': 11, 'ऋ': 12, 'ऌ': 13, 'ऍ': 14, 'ऎ': 15, 'ए': 16, 'ऐ': 17, 'ऑ': 18, 'ऒ': 19, 'ओ': 20, 'औ': 21, 'क': 22, 'ख': 23, 'ग': 24, 'घ': 25, 'ङ': 26, 'च': 27, 'छ': 28, 'ज': 29, 'झ': 30, 'ञ': 31, 'ट': 32, 'ठ': 33, 'ड': 34, 'ढ': 35, 'ण': 36, 'त': 37, 'थ': 38, 'द': 39, 'ध': 40, 'न': 41, 'ऩ': 42, 'प': 43, 'फ': 44, 'ब': 45, 'भ': 46, 'म': 47, 'य': 48, 'र': 49, 'ऱ': 50, 'ल': 51, 'ळ': 52, 'ऴ': 53, 'व': 54, 'श': 55, 'ष': 56, 'स': 57, 'ह': 58, 'ऺ': 59, 'ऻ': 60, '़': 61, 'ऽ': 62, 'ा': 63, 'ि': 64, 'ी': 65, 'ु': 66, 'ू': 67, 'ृ': 68, 'ॄ': 69, 'ॅ': 70, 'ॆ': 71, 'े': 72, 'ै': 73, 'ॉ': 74, 'ॊ': 75, 'ो': 76, 'ौ': 77, '्': 78, 'ॎ': 79, 'ॏ': 80, 'ॐ': 81, '॑': 82, '॒': 83, '॓': 84, '॔': 85, 'ॕ': 86, 'ॖ': 87, 'ॗ': 88, 'क़': 89, 'ख़': 90, 'ग़': 91, 'ज़': 92, 'ड़': 93, 'ढ़': 94, 'फ़': 95, 'य़': 96, 'ॠ': 97, 'ॡ': 98, 'ॢ': 99, 'ॣ': 100, '।': 101, '॥': 102, '०': 103, '१': 104, '२': 105, '३': 106, '४': 107, '५': 108, '६': 109, '७': 110, '८': 111, '९': 112, '॰': 113, 'ॱ': 114, 'ॲ': 115, 'ॳ': 116, 'ॴ': 117, 'ॵ': 118, 'ॶ': 119, 'ॷ': 120, 'ॸ': 121, 'ॹ': 122, 'ॺ': 123, 'ॻ': 124, 'ॼ': 125, 'ॽ': 126, 'ॾ': 127, 'ॿ': 128}\n"
          ]
        }
      ],
      "source": [
        "Hindi_alphabets = [chr(i) for i in range(2304, 2432)]\n",
        "Hindi_dict = {pad_string:0}\n",
        "for i,j in enumerate(Hindi_alphabets):\n",
        "     Hindi_dict[j] = i+1\n",
        "print(Hindi_dict)"
      ]
    },
    {
      "cell_type": "code",
      "execution_count": 6,
      "metadata": {
        "id": "wpPkUatQqevy"
      },
      "outputs": [],
      "source": [
        "non_eng_letters_regex = re.compile('[^a-zA-Z ]')\n",
        "\n",
        "def cleanEnglishVocab(line):\n",
        "    line = line.replace('-', ' ').replace(',', ' ').upper()\n",
        "    # Remove all non-letters\n",
        "    line = non_eng_letters_regex.sub('', line)\n",
        "    return line.split()\n",
        "\n",
        "def cleanHindiVocab(line):\n",
        "    line = line.replace('-', ' ').replace(',', ' ')\n",
        "    # Remove all non-Hindi chars except space\n",
        "    cleaned_line = ''\n",
        "    for char in line:\n",
        "        if char in Hindi_dict or char == ' ':\n",
        "            cleaned_line += char\n",
        "\n",
        "    return cleaned_line.split()"
      ]
    },
    {
      "cell_type": "code",
      "execution_count": 7,
      "metadata": {
        "id": "4uIrcAHR4CGB"
      },
      "outputs": [],
      "source": [
        "class TransliterationDataLoader(Dataset):\n",
        "    def __init__(self, filename):\n",
        "        self.english_words, self.hindi_words = self.readXmlDataset(filename, cleanHindiVocab)\n",
        "        self.shuffle_indices = list(range(len(self.english_words)))\n",
        "        random.shuffle(self.shuffle_indices)\n",
        "        self.shuffle_start_index = 0\n",
        "\n",
        "    def __len__(self):\n",
        "        return len(self.english_words)\n",
        "\n",
        "    def __getitem__(self, idx):\n",
        "        return self.english_words[idx], self.hindi_words[idx]\n",
        "\n",
        "    def readXmlDataset(self, filename, cleanHindiVocab):\n",
        "        transliterationCorpus = ET.parse(filename).getroot()\n",
        "        eng_words = []\n",
        "        hd_words = []\n",
        "\n",
        "        for line in transliterationCorpus:\n",
        "            wordlist1 = cleanEnglishVocab(line[0].text)\n",
        "            wordlist2 = cleanHindiVocab(line[1].text)\n",
        "\n",
        "            # Skip noisy data\n",
        "            if len(wordlist1) != len(wordlist2):\n",
        "                print('Skipping: ', line[0].text, ' - ', line[1].text)\n",
        "                continue\n",
        "\n",
        "            for word in wordlist1:\n",
        "                eng_words.append(word)\n",
        "            for word in wordlist2:\n",
        "                hd_words.append(word)\n",
        "\n",
        "        return eng_words, hd_words\n",
        "\n",
        "    def get_random_sample(self):\n",
        "        return self.__getitem__(np.random.randint(len(self.english_words)))\n",
        "\n",
        "    def get_batch_from_array(self, batch_size, array):\n",
        "        end = self.shuffle_start_index + batch_size\n",
        "        batch = []\n",
        "        if end >= len(self.english_words):\n",
        "            batch = [array[i] for i in self.shuffle_indices[0:end%len(self.english_words)]]\n",
        "            end = len(self.english_words)\n",
        "        return batch + [array[i] for i in self.shuffle_indices[self.shuffle_start_index : end]]\n",
        "\n",
        "    def get_batch(self, batch_size, postprocess = True):\n",
        "        eng_batch = self.get_batch_from_array(batch_size, self.english_words)\n",
        "        hindi_batch = self.get_batch_from_array(batch_size, self.hindi_words)\n",
        "        self.shuffle_start_index += batch_size + 1\n",
        "\n",
        "        # Reshuffle if 1 epoch is complete\n",
        "        if self.shuffle_start_index >= len(self.english_words):\n",
        "            random.shuffle(self.shuffle_indices)\n",
        "            self.shuffle_start_index = 0\n",
        "\n",
        "        return eng_batch, hindi_batch"
      ]
    },
    {
      "cell_type": "code",
      "execution_count": 8,
      "metadata": {
        "id": "LIk5nw_VC_91"
      },
      "outputs": [],
      "source": [
        "train_data = TransliterationDataLoader('/content/drive/MyDrive/PROJECT_PADHAI/Computer_Vision/PADHAI_DL/PADHAI_DL/Text_Transliteration/Original-NEWS2012-data/Training/NEWS2012-Training-EnHi-13937.xml')\n",
        "test_data = TransliterationDataLoader('/content/drive/MyDrive/PROJECT_PADHAI/Computer_Vision/PADHAI_DL/PADHAI_DL/Text_Transliteration/Original-NEWS2012-data/Ref/NEWS2012-Ref-EnHi-1000.xml')"
      ]
    },
    {
      "cell_type": "code",
      "execution_count": 9,
      "metadata": {
        "colab": {
          "base_uri": "https://localhost:8080/"
        },
        "id": "HXQ3hSQmMaTH",
        "outputId": "573efc55-3e93-41b7-cac1-22090dcb6fc6"
      },
      "outputs": [
        {
          "output_type": "stream",
          "name": "stdout",
          "text": [
            "Train Set Size:\t 20641\n",
            "Test Set Size:\t 1000\n",
            "\n",
            "Sample data from train-set:\n",
            "QUEENSLAND - क्वीन्सलैंड\n",
            "SAJNI - सजनी\n",
            "GRINHAM - ग्रिनहैम\n",
            "GANNAVARAM - गन्नावरम\n",
            "SARWATE - शोत्री\n",
            "JOEY - जॉय\n",
            "STRIX - स्ट्रिक्स\n",
            "GOBAIN - गॉबेन\n",
            "MORNE - मॉर्न\n",
            "MUSHFIQ - मुश्फीक़\n"
          ]
        }
      ],
      "source": [
        "print(\"Train Set Size:\\t\", len(train_data))\n",
        "print(\"Test Set Size:\\t\", len(test_data))\n",
        "\n",
        "print('\\nSample data from train-set:')\n",
        "for i in range(10):\n",
        "    eng, hindi = train_data.get_random_sample()\n",
        "    print(eng + ' - ' + hindi)"
      ]
    },
    {
      "cell_type": "code",
      "execution_count": 10,
      "metadata": {
        "colab": {
          "base_uri": "https://localhost:8080/"
        },
        "id": "kh4MPpiOOUMM",
        "outputId": "a2a2839f-6bde-4d5a-c534-9860658b3a52"
      },
      "outputs": [
        {
          "output_type": "stream",
          "name": "stdout",
          "text": [
            "PEACE tensor([[[0., 0., 0., 0., 0., 0., 0., 0., 0., 0., 0., 0., 0., 0., 0., 0., 1.,\n",
            "          0., 0., 0., 0., 0., 0., 0., 0., 0., 0.]],\n",
            "\n",
            "        [[0., 0., 0., 0., 0., 1., 0., 0., 0., 0., 0., 0., 0., 0., 0., 0., 0.,\n",
            "          0., 0., 0., 0., 0., 0., 0., 0., 0., 0.]],\n",
            "\n",
            "        [[0., 1., 0., 0., 0., 0., 0., 0., 0., 0., 0., 0., 0., 0., 0., 0., 0.,\n",
            "          0., 0., 0., 0., 0., 0., 0., 0., 0., 0.]],\n",
            "\n",
            "        [[0., 0., 0., 1., 0., 0., 0., 0., 0., 0., 0., 0., 0., 0., 0., 0., 0.,\n",
            "          0., 0., 0., 0., 0., 0., 0., 0., 0., 0.]],\n",
            "\n",
            "        [[0., 0., 0., 0., 0., 1., 0., 0., 0., 0., 0., 0., 0., 0., 0., 0., 0.,\n",
            "          0., 0., 0., 0., 0., 0., 0., 0., 0., 0.]],\n",
            "\n",
            "        [[1., 0., 0., 0., 0., 0., 0., 0., 0., 0., 0., 0., 0., 0., 0., 0., 0.,\n",
            "          0., 0., 0., 0., 0., 0., 0., 0., 0., 0.]]])\n",
            "पीस tensor([[43],\n",
            "        [65],\n",
            "        [57],\n",
            "        [ 0]])\n"
          ]
        }
      ],
      "source": [
        "def eng_rep(word, letter2index,device = device):\n",
        "    rep = torch.zeros(len(word)+1, 1, len(letter2index)).to(device)\n",
        "    for letter_index, letter in enumerate(word):\n",
        "        pos = letter2index[letter]\n",
        "        rep[letter_index][0][pos] = 1\n",
        "    pad_pos = letter2index[pad_string]\n",
        "    rep[letter_index+1][0][pad_pos] = 1\n",
        "    return rep\n",
        "\n",
        "def Hindi_rep(word, letter2index,device = device):\n",
        "    gt_rep = torch.zeros([len(word)+1, 1], dtype=torch.long).to(device)\n",
        "    for letter_index, letter in enumerate(word):\n",
        "        pos = letter2index[letter]\n",
        "        gt_rep[letter_index][0] = pos\n",
        "    gt_rep[letter_index+1][0] = letter2index[pad_string]\n",
        "    return gt_rep\n",
        "\n",
        "eng, hindi = train_data.get_random_sample()\n",
        "english_rep = eng_rep(eng, english_dict)\n",
        "print(eng, english_rep)\n",
        "\n",
        "hindi_gt = Hindi_rep(hindi, Hindi_dict)\n",
        "print(hindi, hindi_gt)\n"
      ]
    },
    {
      "cell_type": "code",
      "execution_count": 11,
      "metadata": {
        "id": "KQxCvlIuTaKI"
      },
      "outputs": [],
      "source": [
        "MAX_ENCODER_STEPS = 30\n",
        "MAX_OUTPUT_CHARS = 30\n",
        "class Transliteration_EncoderDecoderAttention(nn.Module):\n",
        "    def __init__(self, input_size, hidden_size, output_size):\n",
        "        super(Transliteration_EncoderDecoderAttention, self).__init__()\n",
        "        self.hidden_size = hidden_size\n",
        "        self.output_size = output_size\n",
        "        self.encoder_rnn_cell = nn.GRU(input_size, hidden_size)\n",
        "        self.decoder_rnn_cell = nn.GRU(hidden_size*2, hidden_size)\n",
        "        self.h2o = nn.Linear(hidden_size, output_size)\n",
        "        self.softmax = nn.LogSoftmax(dim=2)\n",
        "\n",
        "        self.U = nn.Linear(self.hidden_size, self.hidden_size)\n",
        "        self.W = nn.Linear(self.hidden_size, self.hidden_size)\n",
        "        self.attn = nn.Linear(self.hidden_size, 1)\n",
        "        self.out2hidden = nn.Linear(self.output_size, self.hidden_size)\n",
        "\n",
        "\n",
        "    def forward(self, input, max_output_chars = MAX_OUTPUT_CHARS,  device = device,ground_truth = None):\n",
        "        encoder_outputs,h_state = self.encoder_rnn_cell(input)\n",
        "        encoder_outputs = encoder_outputs.view(-1, self.hidden_size)\n",
        "        decoder_state = h_state\n",
        "\n",
        "        decoder_input = torch.zeros(1, 1, self.output_size).to(device)\n",
        "        outputs = []\n",
        "        U = self.U(encoder_outputs)\n",
        "\n",
        "        for i in range(max_output_chars):\n",
        "            W = self.W(h_state.view(1, -1).repeat(encoder_outputs.shape[0], 1))\n",
        "            V = self.attn(torch.tanh(U + W))\n",
        "            attn_weights = F.softmax(V.view(1, -1), dim = 1)\n",
        "\n",
        "            attn_applied = torch.bmm(attn_weights.unsqueeze(0),\n",
        "                                 encoder_outputs.unsqueeze(0))\n",
        "            embedding = self.out2hidden(decoder_input)\n",
        "            decoder_input = torch.cat((embedding[0], attn_applied[0]), 1).unsqueeze(0)\n",
        "\n",
        "            out, h_state= self.decoder_rnn_cell(decoder_input, h_state)\n",
        "            out = self.h2o(h_state)\n",
        "            out = self.softmax(out)\n",
        "            outputs.append(out.view(1, -1))\n",
        "            max_idx = torch.argmax(out, 2, keepdim=True)\n",
        "            if not ground_truth is None:\n",
        "                max_idx = ground_truth[i].reshape(1, 1, 1)\n",
        "            one_hot = torch.zeros(out.shape, device = device)\n",
        "            one_hot.scatter_(2, max_idx, 1) # In dim 2, set max_idx's as 1\n",
        "            decoder_input = one_hot.detach()\n",
        "\n",
        "        return outputs\n"
      ]
    },
    {
      "cell_type": "code",
      "execution_count": 12,
      "metadata": {
        "id": "runK51YmV6rT"
      },
      "outputs": [],
      "source": [
        "def train_batch(net, opt, criterion, batch_size,device = device, teacher_force = False):\n",
        "    net.train().to(device)\n",
        "    opt.zero_grad()\n",
        "    eng_batch, hindi_batch = train_data.get_batch(batch_size)\n",
        "\n",
        "    total_loss = 0\n",
        "    for i in range(batch_size):\n",
        "        input = eng_rep(eng_batch[i], english_dict,device)\n",
        "        gt = Hindi_rep(hindi_batch[i], Hindi_dict,device)\n",
        "        outputs = net(input, gt.shape[0],device, ground_truth = gt if teacher_force else None)\n",
        "\n",
        "        for index, output in enumerate(outputs):\n",
        "            loss = criterion(output, gt[index]) / batch_size\n",
        "            loss.backward(retain_graph = True)\n",
        "            total_loss += loss\n",
        "\n",
        "    opt.step()\n",
        "    return total_loss/batch_size\n",
        "def train_setup(net, lr = 0.01, n_batches = 100, batch_size = 10, momentum = 0.9, display_freq=5,device = device):\n",
        "    net = net.to(device)\n",
        "    criterion = nn.NLLLoss(ignore_index = -1)\n",
        "    opt = optim.Adam(net.parameters(), lr=lr)\n",
        "    teacher_force_upto = n_batches//3\n",
        "\n",
        "    loss_arr = np.zeros(n_batches + 1)\n",
        "\n",
        "    for i in range(n_batches):\n",
        "        loss_arr[i+1] = (loss_arr[i]*i + train_batch(net, opt, criterion, batch_size,device = device, teacher_force = i<teacher_force_upto ))/(i + 1)\n",
        "        if i%display_freq == display_freq-1:\n",
        "            clear_output(wait=True)\n",
        "\n",
        "            print('Iteration', i, 'Loss', loss_arr[i])\n",
        "            plt.figure()\n",
        "            plt.plot(loss_arr[1:i], '-*')\n",
        "            plt.xlabel('Iteration')\n",
        "            plt.ylabel('Loss')\n",
        "            plt.show()\n",
        "            print('\\n\\n')\n",
        "\n",
        "    torch.save(net, 'model.pt')\n",
        "    return loss_arr"
      ]
    },
    {
      "cell_type": "code",
      "execution_count": 13,
      "metadata": {
        "id": "kZo9Loi7YOqW"
      },
      "outputs": [],
      "source": [
        "Model = Transliteration_EncoderDecoderAttention(len(english_dict), 300, len(Hindi_dict))"
      ]
    },
    {
      "cell_type": "code",
      "execution_count": 14,
      "metadata": {
        "colab": {
          "base_uri": "https://localhost:8080/",
          "height": 518
        },
        "id": "mBFx-fOfYgRu",
        "outputId": "cd10f46c-932a-4572-b6b7-ea747825220e"
      },
      "outputs": [
        {
          "output_type": "stream",
          "name": "stdout",
          "text": [
            "Iteration 3999 Loss 0.08583437651395798\n"
          ]
        },
        {
          "output_type": "display_data",
          "data": {
            "text/plain": [
              "<Figure size 640x480 with 1 Axes>"
            ],
            "image/png": "[encoded data removed]"
          },
          "metadata": {}
        },
        {
          "output_type": "stream",
          "name": "stdout",
          "text": [
            "\n",
            "\n",
            "\n"
          ]
        }
      ],
      "source": [
        "loss_history = train_setup(Model, lr=0.001, n_batches=4000, batch_size = 64, display_freq=10,device = device)"
      ]
    },
    {
      "cell_type": "code",
      "execution_count": 15,
      "metadata": {
        "colab": {
          "base_uri": "https://localhost:8080/"
        },
        "id": "dL3tNhYnkMvA",
        "outputId": "83aa44d1-2f8e-4aa3-a1f0-87971d6e52d5"
      },
      "outputs": [
        {
          "output_type": "stream",
          "name": "stdout",
          "text": [
            "PAL - बीऴ\n"
          ]
        }
      ],
      "source": [
        "def infer(Model, word, char_limit,):\n",
        "    input = eng_rep(word, english_dict)\n",
        "    return Model(input, char_limit)\n",
        "\n",
        "def test(Model, word):\n",
        "    net = Model.eval()\n",
        "    outputs = infer(net, word, 30)\n",
        "    hindi_output = ''\n",
        "    for out in outputs:\n",
        "        val, indices = out.topk(1)\n",
        "        index = indices.tolist()[0][0]\n",
        "        if index == 0:\n",
        "            break\n",
        "        hindi_char = Hindi_alphabets[index+1]\n",
        "        hindi_output += hindi_char\n",
        "    print(word + ' - ' + hindi_output)\n",
        "    return hindi_output\n",
        "\n",
        "hindi_word = test(Model, 'PAL')"
      ]
    },
    {
      "cell_type": "code",
      "source": [
        "hindi_word = test(Model, 'CHIP')"
      ],
      "metadata": {
        "colab": {
          "base_uri": "https://localhost:8080/"
        },
        "id": "Ku199BsVprmu",
        "outputId": "58995774-f96b-488e-ef91-95faff47543d"
      },
      "execution_count": 31,
      "outputs": [
        {
          "output_type": "stream",
          "name": "stdout",
          "text": [
            "CHIP - जुब\n"
          ]
        }
      ]
    },
    {
      "cell_type": "code",
      "source": [
        "def calc_accuracy(Model):\n",
        "    net = Model.eval()\n",
        "    predictions = []\n",
        "    accuracy = 0\n",
        "    for i in range(len(train_data)):\n",
        "        eng, hindi = train_data[i]\n",
        "        gt = Hindi_rep(hindi, Hindi_dict)\n",
        "        outputs = infer(net, eng, gt.shape[0])\n",
        "        correct = 0\n",
        "        for index, out in enumerate(outputs):\n",
        "            val, indices = out.topk(1)\n",
        "            hindi_pos = indices.tolist()[0]\n",
        "            if hindi_pos[0] == gt[index][0]:\n",
        "                correct += 1\n",
        "\n",
        "        accuracy += correct/gt.shape[0]\n",
        "    accuracy /= len(train_data)\n",
        "    return accuracy\n",
        "\n",
        "accuracy = calc_accuracy(Model) * 100"
      ],
      "metadata": {
        "id": "qy4EbEAtsHi-"
      },
      "execution_count": null,
      "outputs": []
    },
    {
      "cell_type": "code",
      "source": [
        "print('Accuracy Train: ', accuracy)"
      ],
      "metadata": {
        "colab": {
          "base_uri": "https://localhost:8080/"
        },
        "id": "_ym1jFxXtcDl",
        "outputId": "b982d336-fd73-4536-bf23-d415374d44cc"
      },
      "execution_count": 35,
      "outputs": [
        {
          "output_type": "stream",
          "name": "stdout",
          "text": [
            "Accuracy Train:  88.33570339925905\n"
          ]
        }
      ]
    },
    {
      "cell_type": "code",
      "execution_count": 37,
      "metadata": {
        "id": "B3CCTO14k4GD"
      },
      "outputs": [],
      "source": [
        "def calc_accuracy(Model):\n",
        "    net = Model.eval()\n",
        "    predictions = []\n",
        "    accuracy = 0\n",
        "    for i in range(len(test_data)):\n",
        "        eng, hindi = test_data[i]\n",
        "        gt = Hindi_rep(hindi, Hindi_dict)\n",
        "        outputs = infer(net, eng, gt.shape[0])\n",
        "        correct = 0\n",
        "        for index, out in enumerate(outputs):\n",
        "            val, indices = out.topk(1)\n",
        "            hindi_pos = indices.tolist()[0]\n",
        "            if hindi_pos[0] == gt[index][0]:\n",
        "                correct += 1\n",
        "\n",
        "        accuracy += correct/gt.shape[0]\n",
        "    accuracy /= len(test_data)\n",
        "    return accuracy\n",
        "\n",
        "accuracy_Test = calc_accuracy(Model) * 100\n"
      ]
    },
    {
      "cell_type": "code",
      "source": [
        "print('Accuracy Test: ', accuracy_Test)"
      ],
      "metadata": {
        "colab": {
          "base_uri": "https://localhost:8080/"
        },
        "id": "WqwNnl3jttQH",
        "outputId": "0191a8a3-1a6d-40ce-f09d-debdc86e116a"
      },
      "execution_count": 38,
      "outputs": [
        {
          "output_type": "stream",
          "name": "stdout",
          "text": [
            "Accuracy Test:  78.27736874236876\n"
          ]
        }
      ]
    }
  ],
  "metadata": {
    "accelerator": "GPU",
    "colab": {
      "gpuType": "T4",
      "provenance": []
    },
    "kernelspec": {
      "display_name": "Python 3",
      "name": "python3"
    },
    "language_info": {
      "codemirror_mode": {
        "name": "ipython",
        "version": 3
      },
      "file_extension": ".py",
      "mimetype": "text/x-python",
      "name": "python",
      "nbconvert_exporter": "python",
      "pygments_lexer": "ipython3",
      "version": "3.7.12"
    }
  },
  "nbformat": 4,
  "nbformat_minor": 0
}